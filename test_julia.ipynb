{
 "cells": [
  {
   "cell_type": "code",
   "execution_count": 5,
   "id": "a621e90f",
   "metadata": {},
   "outputs": [
    {
     "data": {
      "text/plain": [
       "Base.EnvDict with 31 entries:\n",
       "  \"SHELL\"              => \"/bin/bash\"\n",
       "  \"WSL_DISTRO_NAME\"    => \"Ubuntu\"\n",
       "  \"WT_SESSION\"         => \"4193049c-1c4b-4df6-89f1-1f2ce76bba36\"\n",
       "  \"NAME\"               => \"DESKTOP-A1AUCQ6\"\n",
       "  \"PWD\"                => \"/home/kkganko/oscillatory_bioreactor\"\n",
       "  \"LOGNAME\"            => \"kkganko\"\n",
       "  \"HOME\"               => \"/home/kkganko\"\n",
       "  \"LANG\"               => \"C.UTF-8\"\n",
       "  \"WSL_INTEROP\"        => \"/run/WSL/972_interop\"\n",
       "  \"LS_COLORS\"          => \"rs=0:di=01;34:ln=01;36:mh=00:pi=40;33:so=01;35:do=01…\n",
       "  \"LESSCLOSE\"          => \"/usr/bin/lesspipe %s %s\"\n",
       "  \"TERM\"               => \"xterm-256color\"\n",
       "  \"LESSOPEN\"           => \"| /usr/bin/lesspipe %s\"\n",
       "  \"USER\"               => \"kkganko\"\n",
       "  \"SHLVL\"              => \"1\"\n",
       "  \"DOCKER_ARCH\"        => \"amd64\"\n",
       "  \"WSLENV\"             => \"WT_SESSION::WT_PROFILE_ID\"\n",
       "  \"XDG_DATA_DIRS\"      => \"/usr/local/share:/usr/share:/var/lib/snapd/desktop\"\n",
       "  \"BROWSER\"            => \"/mnt/c/Program Files (x86)/Microsoft/Edge/Applicatio…\n",
       "  \"PATH\"               => \"/usr/local/sbin:/usr/local/bin:/usr/sbin:/usr/bin:/s…\n",
       "  \"HOSTTYPE\"           => \"x86_64\"\n",
       "  \"WT_PROFILE_ID\"      => \"{61c54bbd-c2c6-5271-96e7-009a87ff44bf}\"\n",
       "  \"OLDPWD\"             => \"/home/kkganko\"\n",
       "  \"_\"                  => \"/home/kkganko/.julia/conda/3/bin/jupyter\"\n",
       "  \"JPY_PARENT_PID\"     => \"1202\"\n",
       "  ⋮                    => ⋮"
      ]
     },
     "execution_count": 5,
     "metadata": {},
     "output_type": "execute_result"
    }
   ],
   "source": [
    "# Print out WSL shell environment vars passed to jupyter notebook\n",
    "ENV\n",
    "# ENV[\"BROWSER\"]"
   ]
  },
  {
   "cell_type": "code",
   "execution_count": 2,
   "id": "1b8dd979",
   "metadata": {},
   "outputs": [],
   "source": [
    "import Pkg"
   ]
  },
  {
   "cell_type": "code",
   "execution_count": 3,
   "id": "a53e159c",
   "metadata": {},
   "outputs": [],
   "source": [
    "# Pkg.add(\"IJulia\")\n",
    "# Pkg.add(\"Conda\")\n",
    "# Pkg.add(\"PyCall\")\n",
    "# Pkg.add(\"Plots\")\n",
    "# Pkg.add(\"PyPlot\")\n",
    "# Pkg.add(\"JLD\") # for loading and saving Julia variables using .jld file format\n",
    "# Pkg.add(\"LaTeXStrings\") # for using latex math fonts in plots, prepend L to strings, ie. L\"5+5\"\n",
    "# Pkg.add(\"SpecialFunctions\") # for getting Beta function and error function + complementary error function values given inputs\n",
    "# Pkg.add(\"BenchmarkTools\") # for performance tracking, https://github.com/JuliaCI/BenchmarkTools.jl\n",
    "\n",
    "using Printf # for pretty string formatting of variables\n",
    "using Random # for setting random seeds\n",
    "using IJulia\n",
    "using Conda\n",
    "using PyCall\n",
    "using Plots\n",
    "using Plots; pyplot(html_output_format=:png)\n",
    "using JLD\n",
    "using LaTeXStrings\n",
    "using SpecialFunctions\n",
    "using LinearAlgebra # holds LowerTriangular() matrix generator plus other nifty Linpack routines\n",
    "using BenchmarkTools"
   ]
  },
  {
   "cell_type": "code",
   "execution_count": null,
   "id": "c8e2474b",
   "metadata": {},
   "outputs": [],
   "source": []
  }
 ],
 "metadata": {
  "kernelspec": {
   "display_name": "Julia 1.7.3",
   "language": "julia",
   "name": "julia-1.7"
  },
  "language_info": {
   "file_extension": ".jl",
   "mimetype": "application/julia",
   "name": "julia",
   "version": "1.7.3"
  }
 },
 "nbformat": 4,
 "nbformat_minor": 5
}
